{
 "cells": [
  {
   "cell_type": "code",
   "execution_count": 1,
   "id": "a3b3f804",
   "metadata": {},
   "outputs": [],
   "source": [
    "#hands on"
   ]
  },
  {
   "cell_type": "code",
   "execution_count": 2,
   "id": "57026134",
   "metadata": {},
   "outputs": [],
   "source": [
    "import pandas as pd\n",
    "import numpy as np"
   ]
  },
  {
   "cell_type": "code",
   "execution_count": 3,
   "id": "127ef290",
   "metadata": {},
   "outputs": [],
   "source": [
    "#Analyzing population of \"The Group of Seven\""
   ]
  },
  {
   "cell_type": "code",
   "execution_count": 5,
   "id": "bc2fa5a7",
   "metadata": {},
   "outputs": [],
   "source": [
    "# in million\n",
    "g7_pop = pd.Series([12.56, 20.56, 18.29,19.87, 30.45, 50.23, 51.98])"
   ]
  },
  {
   "cell_type": "code",
   "execution_count": 6,
   "id": "478255d0",
   "metadata": {},
   "outputs": [
    {
     "data": {
      "text/plain": [
       "0    12.56\n",
       "1    20.56\n",
       "2    18.29\n",
       "3    19.87\n",
       "4    30.45\n",
       "5    50.23\n",
       "6    51.98\n",
       "dtype: float64"
      ]
     },
     "execution_count": 6,
     "metadata": {},
     "output_type": "execute_result"
    }
   ],
   "source": [
    "#series\n",
    "g7_pop"
   ]
  },
  {
   "cell_type": "code",
   "execution_count": 7,
   "id": "24691041",
   "metadata": {},
   "outputs": [],
   "source": [
    "g7_pop.name = 'G7 Population in millions'"
   ]
  },
  {
   "cell_type": "code",
   "execution_count": 8,
   "id": "d7d76540",
   "metadata": {},
   "outputs": [
    {
     "data": {
      "text/plain": [
       "0    12.56\n",
       "1    20.56\n",
       "2    18.29\n",
       "3    19.87\n",
       "4    30.45\n",
       "5    50.23\n",
       "6    51.98\n",
       "Name: G7 Population in millions, dtype: float64"
      ]
     },
     "execution_count": 8,
     "metadata": {},
     "output_type": "execute_result"
    }
   ],
   "source": [
    "g7_pop"
   ]
  },
  {
   "cell_type": "code",
   "execution_count": 9,
   "id": "68a53925",
   "metadata": {},
   "outputs": [
    {
     "data": {
      "text/plain": [
       "dtype('float64')"
      ]
     },
     "execution_count": 9,
     "metadata": {},
     "output_type": "execute_result"
    }
   ],
   "source": [
    "g7_pop.dtype"
   ]
  },
  {
   "cell_type": "code",
   "execution_count": 10,
   "id": "50c8ba52",
   "metadata": {},
   "outputs": [
    {
     "data": {
      "text/plain": [
       "array([12.56, 20.56, 18.29, 19.87, 30.45, 50.23, 51.98])"
      ]
     },
     "execution_count": 10,
     "metadata": {},
     "output_type": "execute_result"
    }
   ],
   "source": [
    "g7_pop.values"
   ]
  },
  {
   "cell_type": "code",
   "execution_count": 11,
   "id": "579f0970",
   "metadata": {},
   "outputs": [
    {
     "data": {
      "text/plain": [
       "numpy.ndarray"
      ]
     },
     "execution_count": 11,
     "metadata": {},
     "output_type": "execute_result"
    }
   ],
   "source": [
    "type(g7_pop.values)"
   ]
  },
  {
   "cell_type": "code",
   "execution_count": 12,
   "id": "37abbb57",
   "metadata": {},
   "outputs": [],
   "source": [
    "#index"
   ]
  },
  {
   "cell_type": "code",
   "execution_count": 13,
   "id": "4e6e85e8",
   "metadata": {},
   "outputs": [
    {
     "data": {
      "text/plain": [
       "0    12.56\n",
       "1    20.56\n",
       "2    18.29\n",
       "3    19.87\n",
       "4    30.45\n",
       "5    50.23\n",
       "6    51.98\n",
       "Name: G7 Population in millions, dtype: float64"
      ]
     },
     "execution_count": 13,
     "metadata": {},
     "output_type": "execute_result"
    }
   ],
   "source": [
    "g7_pop"
   ]
  },
  {
   "cell_type": "code",
   "execution_count": 14,
   "id": "666e5a6e",
   "metadata": {},
   "outputs": [
    {
     "data": {
      "text/plain": [
       "12.56"
      ]
     },
     "execution_count": 14,
     "metadata": {},
     "output_type": "execute_result"
    }
   ],
   "source": [
    "g7_pop[0]"
   ]
  },
  {
   "cell_type": "code",
   "execution_count": 15,
   "id": "3b8d5d62",
   "metadata": {},
   "outputs": [
    {
     "data": {
      "text/plain": [
       "20.56"
      ]
     },
     "execution_count": 15,
     "metadata": {},
     "output_type": "execute_result"
    }
   ],
   "source": [
    "g7_pop[1]"
   ]
  },
  {
   "cell_type": "code",
   "execution_count": 16,
   "id": "abaf4ff3",
   "metadata": {},
   "outputs": [
    {
     "data": {
      "text/plain": [
       "18.29"
      ]
     },
     "execution_count": 16,
     "metadata": {},
     "output_type": "execute_result"
    }
   ],
   "source": [
    "g7_pop[2]"
   ]
  },
  {
   "cell_type": "code",
   "execution_count": 17,
   "id": "d0c505fb",
   "metadata": {},
   "outputs": [
    {
     "data": {
      "text/plain": [
       "RangeIndex(start=0, stop=7, step=1)"
      ]
     },
     "execution_count": 17,
     "metadata": {},
     "output_type": "execute_result"
    }
   ],
   "source": [
    "g7_pop.index"
   ]
  },
  {
   "cell_type": "code",
   "execution_count": 18,
   "id": "0d15fd21",
   "metadata": {},
   "outputs": [],
   "source": [
    "#define the index\n",
    "g7_pop.index = ['Canada','France','Germany','Italy','Japan','United Kingdom','United States']"
   ]
  },
  {
   "cell_type": "code",
   "execution_count": 19,
   "id": "3fa824c2",
   "metadata": {},
   "outputs": [
    {
     "data": {
      "text/plain": [
       "Canada            12.56\n",
       "France            20.56\n",
       "Germany           18.29\n",
       "Italy             19.87\n",
       "Japan             30.45\n",
       "United Kingdom    50.23\n",
       "United States     51.98\n",
       "Name: G7 Population in millions, dtype: float64"
      ]
     },
     "execution_count": 19,
     "metadata": {},
     "output_type": "execute_result"
    }
   ],
   "source": [
    "g7_pop"
   ]
  },
  {
   "cell_type": "code",
   "execution_count": 21,
   "id": "fb2f9659",
   "metadata": {},
   "outputs": [
    {
     "data": {
      "text/plain": [
       "Canada            12.56\n",
       "France            20.56\n",
       "Germany           18.29\n",
       "Italy             19.87\n",
       "Japan             30.45\n",
       "United Kingdom    50.23\n",
       "United States     51.98\n",
       "Name: G7 Population in million, dtype: float64"
      ]
     },
     "execution_count": 21,
     "metadata": {},
     "output_type": "execute_result"
    }
   ],
   "source": [
    "#series looks like ordered dictionaries\n",
    "#create series out of dictionaries\n",
    "pd.Series({'Canada':12.56, \n",
    "           'France': 20.56, \n",
    "           'Germany':18.29, \n",
    "           'Italy':19.87, \n",
    "           'Japan':30.45, \n",
    "           'United Kingdom': 50.23, \n",
    "           'United States':51.98}, \n",
    "          name='G7 Population in million'\n",
    "         )"
   ]
  },
  {
   "cell_type": "code",
   "execution_count": 23,
   "id": "f3d537f5",
   "metadata": {},
   "outputs": [
    {
     "data": {
      "text/plain": [
       "Canada            12.56\n",
       "France            20.56\n",
       "Germany           18.29\n",
       "Italy             19.87\n",
       "Japan             30.45\n",
       "United Kingdom    50.23\n",
       "United States     51.98\n",
       "Name: G7 Population in million, dtype: float64"
      ]
     },
     "execution_count": 23,
     "metadata": {},
     "output_type": "execute_result"
    }
   ],
   "source": [
    "pd.Series([12.56,20.56,18.29,19.87,30.45,50.23,51.98],\n",
    "         index=['Canada', \n",
    "                'France', \n",
    "                'Germany', \n",
    "                'Italy', \n",
    "                'Japan', \n",
    "                'United Kingdom', \n",
    "                'United States'],\n",
    "         name='G7 Population in million'\n",
    "         )"
   ]
  },
  {
   "cell_type": "code",
   "execution_count": 24,
   "id": "d83f6cc3",
   "metadata": {},
   "outputs": [],
   "source": [
    "#series out of other series, specifying indexes"
   ]
  },
  {
   "cell_type": "code",
   "execution_count": 27,
   "id": "c8127b00",
   "metadata": {},
   "outputs": [
    {
     "data": {
      "text/plain": [
       "France     20.56\n",
       "Germany    18.29\n",
       "Italy      19.87\n",
       "Japan      30.45\n",
       "Name: G7 Population in millions, dtype: float64"
      ]
     },
     "execution_count": 27,
     "metadata": {},
     "output_type": "execute_result"
    }
   ],
   "source": [
    "pd.Series(g7_pop, index=['France', 'Germany', 'Italy', 'Japan'])"
   ]
  },
  {
   "cell_type": "code",
   "execution_count": 28,
   "id": "228f648f",
   "metadata": {},
   "outputs": [],
   "source": [
    "#indexing"
   ]
  },
  {
   "cell_type": "code",
   "execution_count": 29,
   "id": "b69bd8bc",
   "metadata": {},
   "outputs": [
    {
     "data": {
      "text/plain": [
       "Canada            12.56\n",
       "France            20.56\n",
       "Germany           18.29\n",
       "Italy             19.87\n",
       "Japan             30.45\n",
       "United Kingdom    50.23\n",
       "United States     51.98\n",
       "Name: G7 Population in millions, dtype: float64"
      ]
     },
     "execution_count": 29,
     "metadata": {},
     "output_type": "execute_result"
    }
   ],
   "source": [
    "g7_pop"
   ]
  },
  {
   "cell_type": "code",
   "execution_count": 30,
   "id": "a4c4d820",
   "metadata": {},
   "outputs": [
    {
     "data": {
      "text/plain": [
       "12.56"
      ]
     },
     "execution_count": 30,
     "metadata": {},
     "output_type": "execute_result"
    }
   ],
   "source": [
    "g7_pop['Canada']"
   ]
  },
  {
   "cell_type": "code",
   "execution_count": 31,
   "id": "179571ec",
   "metadata": {},
   "outputs": [
    {
     "data": {
      "text/plain": [
       "20.56"
      ]
     },
     "execution_count": 31,
     "metadata": {},
     "output_type": "execute_result"
    }
   ],
   "source": [
    "g7_pop['France']"
   ]
  },
  {
   "cell_type": "code",
   "execution_count": 32,
   "id": "f0018c0a",
   "metadata": {},
   "outputs": [],
   "source": [
    "#numeric positions with iloc"
   ]
  },
  {
   "cell_type": "code",
   "execution_count": 35,
   "id": "cd7f2f16",
   "metadata": {},
   "outputs": [
    {
     "data": {
      "text/plain": [
       "20.56"
      ]
     },
     "execution_count": 35,
     "metadata": {},
     "output_type": "execute_result"
    }
   ],
   "source": [
    "g7_pop.iloc[1]"
   ]
  },
  {
   "cell_type": "code",
   "execution_count": 36,
   "id": "fb37541c",
   "metadata": {},
   "outputs": [
    {
     "data": {
      "text/plain": [
       "12.56"
      ]
     },
     "execution_count": 36,
     "metadata": {},
     "output_type": "execute_result"
    }
   ],
   "source": [
    "g7_pop.iloc[0]"
   ]
  },
  {
   "cell_type": "code",
   "execution_count": 37,
   "id": "de979f40",
   "metadata": {},
   "outputs": [
    {
     "data": {
      "text/plain": [
       "51.98"
      ]
     },
     "execution_count": 37,
     "metadata": {},
     "output_type": "execute_result"
    }
   ],
   "source": [
    "g7_pop.iloc[-1]"
   ]
  },
  {
   "cell_type": "code",
   "execution_count": 38,
   "id": "5bb82688",
   "metadata": {},
   "outputs": [],
   "source": [
    "#selecting multiple elements at once"
   ]
  },
  {
   "cell_type": "code",
   "execution_count": 41,
   "id": "290392ef",
   "metadata": {},
   "outputs": [
    {
     "data": {
      "text/plain": [
       "Canada    12.56\n",
       "France    20.56\n",
       "Name: G7 Population in millions, dtype: float64"
      ]
     },
     "execution_count": 41,
     "metadata": {},
     "output_type": "execute_result"
    }
   ],
   "source": [
    "g7_pop[['Canada', 'France']]"
   ]
  },
  {
   "cell_type": "code",
   "execution_count": 42,
   "id": "5b7c3103",
   "metadata": {},
   "outputs": [],
   "source": [
    "#result is another series"
   ]
  },
  {
   "cell_type": "code",
   "execution_count": 44,
   "id": "ccf06d08",
   "metadata": {},
   "outputs": [
    {
     "data": {
      "text/plain": [
       "Canada    12.56\n",
       "France    20.56\n",
       "Name: G7 Population in millions, dtype: float64"
      ]
     },
     "execution_count": 44,
     "metadata": {},
     "output_type": "execute_result"
    }
   ],
   "source": [
    "g7_pop.iloc[[0,1]]"
   ]
  },
  {
   "cell_type": "code",
   "execution_count": 45,
   "id": "c1b2bdb3",
   "metadata": {},
   "outputs": [
    {
     "data": {
      "text/plain": [
       "Canada            12.56\n",
       "France            20.56\n",
       "Germany           18.29\n",
       "Italy             19.87\n",
       "Japan             30.45\n",
       "United Kingdom    50.23\n",
       "Name: G7 Population in millions, dtype: float64"
      ]
     },
     "execution_count": 45,
     "metadata": {},
     "output_type": "execute_result"
    }
   ],
   "source": [
    "#slicing\n",
    "g7_pop['Canada': 'United Kingdom']"
   ]
  },
  {
   "cell_type": "code",
   "execution_count": 46,
   "id": "fd580622",
   "metadata": {},
   "outputs": [],
   "source": [
    "#conditional selection (boolean arrays)"
   ]
  },
  {
   "cell_type": "code",
   "execution_count": 47,
   "id": "fca18287",
   "metadata": {},
   "outputs": [
    {
     "data": {
      "text/plain": [
       "Canada            12.56\n",
       "France            20.56\n",
       "Germany           18.29\n",
       "Italy             19.87\n",
       "Japan             30.45\n",
       "United Kingdom    50.23\n",
       "United States     51.98\n",
       "Name: G7 Population in millions, dtype: float64"
      ]
     },
     "execution_count": 47,
     "metadata": {},
     "output_type": "execute_result"
    }
   ],
   "source": [
    "g7_pop"
   ]
  },
  {
   "cell_type": "code",
   "execution_count": 49,
   "id": "61904ef9",
   "metadata": {},
   "outputs": [
    {
     "data": {
      "text/plain": [
       "Canada            False\n",
       "France            False\n",
       "Germany           False\n",
       "Italy             False\n",
       "Japan              True\n",
       "United Kingdom     True\n",
       "United States      True\n",
       "Name: G7 Population in millions, dtype: bool"
      ]
     },
     "execution_count": 49,
     "metadata": {},
     "output_type": "execute_result"
    }
   ],
   "source": [
    "g7_pop>30"
   ]
  },
  {
   "cell_type": "code",
   "execution_count": 50,
   "id": "1e24f86a",
   "metadata": {},
   "outputs": [
    {
     "data": {
      "text/plain": [
       "Japan             30.45\n",
       "United Kingdom    50.23\n",
       "United States     51.98\n",
       "Name: G7 Population in millions, dtype: float64"
      ]
     },
     "execution_count": 50,
     "metadata": {},
     "output_type": "execute_result"
    }
   ],
   "source": [
    "g7_pop[g7_pop>30]"
   ]
  },
  {
   "cell_type": "code",
   "execution_count": 51,
   "id": "84378fdf",
   "metadata": {},
   "outputs": [
    {
     "data": {
      "text/plain": [
       "29.134285714285713"
      ]
     },
     "execution_count": 51,
     "metadata": {},
     "output_type": "execute_result"
    }
   ],
   "source": [
    "g7_pop.mean()"
   ]
  },
  {
   "cell_type": "code",
   "execution_count": 52,
   "id": "13900abb",
   "metadata": {},
   "outputs": [
    {
     "data": {
      "text/plain": [
       "Japan             30.45\n",
       "United Kingdom    50.23\n",
       "United States     51.98\n",
       "Name: G7 Population in millions, dtype: float64"
      ]
     },
     "execution_count": 52,
     "metadata": {},
     "output_type": "execute_result"
    }
   ],
   "source": [
    "g7_pop[g7_pop>g7_pop.mean()]"
   ]
  },
  {
   "cell_type": "code",
   "execution_count": 53,
   "id": "96971965",
   "metadata": {},
   "outputs": [
    {
     "data": {
      "text/plain": [
       "15.918216877886433"
      ]
     },
     "execution_count": 53,
     "metadata": {},
     "output_type": "execute_result"
    }
   ],
   "source": [
    "g7_pop.std()"
   ]
  },
  {
   "cell_type": "code",
   "execution_count": 54,
   "id": "1c629019",
   "metadata": {},
   "outputs": [
    {
     "data": {
      "text/plain": [
       "20.56"
      ]
     },
     "execution_count": 54,
     "metadata": {},
     "output_type": "execute_result"
    }
   ],
   "source": [
    "g7_pop.median()"
   ]
  },
  {
   "cell_type": "code",
   "execution_count": 55,
   "id": "e2a5dfba",
   "metadata": {},
   "outputs": [
    {
     "data": {
      "text/plain": [
       "Japan             30.45\n",
       "United Kingdom    50.23\n",
       "United States     51.98\n",
       "Name: G7 Population in millions, dtype: float64"
      ]
     },
     "execution_count": 55,
     "metadata": {},
     "output_type": "execute_result"
    }
   ],
   "source": [
    "g7_pop[(g7_pop>g7_pop.mean()-g7_pop.std()/2)| (g7_pop>g7_pop.mean()+ g7_pop.std()/2)]"
   ]
  },
  {
   "cell_type": "code",
   "execution_count": 56,
   "id": "d66bd78c",
   "metadata": {},
   "outputs": [],
   "source": [
    "#operations and methods"
   ]
  },
  {
   "cell_type": "code",
   "execution_count": 57,
   "id": "a99536e3",
   "metadata": {},
   "outputs": [
    {
     "data": {
      "text/plain": [
       "Canada            12.56\n",
       "France            20.56\n",
       "Germany           18.29\n",
       "Italy             19.87\n",
       "Japan             30.45\n",
       "United Kingdom    50.23\n",
       "United States     51.98\n",
       "Name: G7 Population in millions, dtype: float64"
      ]
     },
     "execution_count": 57,
     "metadata": {},
     "output_type": "execute_result"
    }
   ],
   "source": [
    "g7_pop"
   ]
  },
  {
   "cell_type": "code",
   "execution_count": 58,
   "id": "88dc4373",
   "metadata": {},
   "outputs": [],
   "source": [
    "#series can support vectorized operations and aggregations as Numpy"
   ]
  },
  {
   "cell_type": "code",
   "execution_count": 59,
   "id": "35ff48e3",
   "metadata": {},
   "outputs": [
    {
     "data": {
      "text/plain": [
       "Canada            1256000.0\n",
       "France            2056000.0\n",
       "Germany           1829000.0\n",
       "Italy             1987000.0\n",
       "Japan             3045000.0\n",
       "United Kingdom    5023000.0\n",
       "United States     5198000.0\n",
       "Name: G7 Population in millions, dtype: float64"
      ]
     },
     "execution_count": 59,
     "metadata": {},
     "output_type": "execute_result"
    }
   ],
   "source": [
    "g7_pop*100000"
   ]
  },
  {
   "cell_type": "code",
   "execution_count": 60,
   "id": "77a52658",
   "metadata": {},
   "outputs": [
    {
     "data": {
      "text/plain": [
       "29.134285714285713"
      ]
     },
     "execution_count": 60,
     "metadata": {},
     "output_type": "execute_result"
    }
   ],
   "source": [
    "g7_pop.mean()"
   ]
  },
  {
   "cell_type": "code",
   "execution_count": 61,
   "id": "17c37907",
   "metadata": {},
   "outputs": [
    {
     "data": {
      "text/plain": [
       "Canada            2.530517\n",
       "France            3.023347\n",
       "Germany           2.906354\n",
       "Italy             2.989211\n",
       "Japan             3.416086\n",
       "United Kingdom    3.916612\n",
       "United States     3.950859\n",
       "Name: G7 Population in millions, dtype: float64"
      ]
     },
     "execution_count": 61,
     "metadata": {},
     "output_type": "execute_result"
    }
   ],
   "source": [
    "np.log(g7_pop)"
   ]
  },
  {
   "cell_type": "code",
   "execution_count": 62,
   "id": "686cad25",
   "metadata": {},
   "outputs": [
    {
     "data": {
      "text/plain": [
       "19.573333333333334"
      ]
     },
     "execution_count": 62,
     "metadata": {},
     "output_type": "execute_result"
    }
   ],
   "source": [
    "g7_pop['France': 'Italy'].mean()"
   ]
  },
  {
   "cell_type": "code",
   "execution_count": 63,
   "id": "0c51fbe1",
   "metadata": {},
   "outputs": [],
   "source": [
    "#boolean arrays"
   ]
  },
  {
   "cell_type": "code",
   "execution_count": 64,
   "id": "9350ab95",
   "metadata": {},
   "outputs": [
    {
     "data": {
      "text/plain": [
       "Canada            12.56\n",
       "France            20.56\n",
       "Germany           18.29\n",
       "Italy             19.87\n",
       "Japan             30.45\n",
       "United Kingdom    50.23\n",
       "United States     51.98\n",
       "Name: G7 Population in millions, dtype: float64"
      ]
     },
     "execution_count": 64,
     "metadata": {},
     "output_type": "execute_result"
    }
   ],
   "source": [
    "g7_pop"
   ]
  },
  {
   "cell_type": "code",
   "execution_count": 65,
   "id": "2a9ceb82",
   "metadata": {},
   "outputs": [
    {
     "data": {
      "text/plain": [
       "Canada            False\n",
       "France            False\n",
       "Germany           False\n",
       "Italy             False\n",
       "Japan             False\n",
       "United Kingdom    False\n",
       "United States     False\n",
       "Name: G7 Population in millions, dtype: bool"
      ]
     },
     "execution_count": 65,
     "metadata": {},
     "output_type": "execute_result"
    }
   ],
   "source": [
    "g7_pop>80"
   ]
  },
  {
   "cell_type": "code",
   "execution_count": 71,
   "id": "d12f4546",
   "metadata": {},
   "outputs": [
    {
     "data": {
      "text/plain": [
       "France            20.56\n",
       "Japan             30.45\n",
       "United Kingdom    50.23\n",
       "United States     51.98\n",
       "Name: G7 Population in millions, dtype: float64"
      ]
     },
     "execution_count": 71,
     "metadata": {},
     "output_type": "execute_result"
    }
   ],
   "source": [
    "g7_pop[g7_pop > 20]"
   ]
  },
  {
   "cell_type": "code",
   "execution_count": 72,
   "id": "fb262250",
   "metadata": {},
   "outputs": [
    {
     "data": {
      "text/plain": [
       "Canada            12.56\n",
       "France            20.56\n",
       "Germany           18.29\n",
       "Italy             19.87\n",
       "Japan             30.45\n",
       "United Kingdom    50.23\n",
       "United States     51.98\n",
       "Name: G7 Population in millions, dtype: float64"
      ]
     },
     "execution_count": 72,
     "metadata": {},
     "output_type": "execute_result"
    }
   ],
   "source": [
    "g7_pop[(g7_pop>30)|(g7_pop<40)]"
   ]
  },
  {
   "cell_type": "code",
   "execution_count": 73,
   "id": "5663c6c6",
   "metadata": {},
   "outputs": [
    {
     "data": {
      "text/plain": [
       "Japan             30.45\n",
       "United Kingdom    50.23\n",
       "United States     51.98\n",
       "Name: G7 Population in millions, dtype: float64"
      ]
     },
     "execution_count": 73,
     "metadata": {},
     "output_type": "execute_result"
    }
   ],
   "source": [
    "g7_pop[(g7_pop>30)&(g7_pop<100)]"
   ]
  },
  {
   "cell_type": "code",
   "execution_count": 74,
   "id": "bc29437b",
   "metadata": {},
   "outputs": [],
   "source": [
    "#modifying series"
   ]
  },
  {
   "cell_type": "code",
   "execution_count": 75,
   "id": "cd781f98",
   "metadata": {},
   "outputs": [
    {
     "data": {
      "text/plain": [
       "Canada            12.56\n",
       "France            20.56\n",
       "Germany           18.29\n",
       "Italy             19.87\n",
       "Japan             30.45\n",
       "United Kingdom    50.23\n",
       "United States     51.98\n",
       "Name: G7 Population in millions, dtype: float64"
      ]
     },
     "execution_count": 75,
     "metadata": {},
     "output_type": "execute_result"
    }
   ],
   "source": [
    "g7_pop"
   ]
  },
  {
   "cell_type": "code",
   "execution_count": 79,
   "id": "c42461ad",
   "metadata": {},
   "outputs": [],
   "source": [
    "g7_pop['Canada']=13.56"
   ]
  },
  {
   "cell_type": "code",
   "execution_count": 77,
   "id": "3f1c2d76",
   "metadata": {},
   "outputs": [
    {
     "data": {
      "text/plain": [
       "Canada            12.56\n",
       "France            20.56\n",
       "Germany           18.29\n",
       "Italy             19.87\n",
       "Japan             30.45\n",
       "United Kingdom    50.23\n",
       "United States     51.98\n",
       "Name: G7 Population in millions, dtype: float64"
      ]
     },
     "execution_count": 77,
     "metadata": {},
     "output_type": "execute_result"
    }
   ],
   "source": [
    "g7_pop"
   ]
  },
  {
   "cell_type": "code",
   "execution_count": 80,
   "id": "2b8e8240",
   "metadata": {},
   "outputs": [],
   "source": [
    "g7_pop['Canada']=13.56"
   ]
  },
  {
   "cell_type": "code",
   "execution_count": 81,
   "id": "c3d55c56",
   "metadata": {},
   "outputs": [
    {
     "data": {
      "text/plain": [
       "Canada            13.56\n",
       "France            20.56\n",
       "Germany           18.29\n",
       "Italy             19.87\n",
       "Japan             30.45\n",
       "United Kingdom    50.23\n",
       "United States     51.98\n",
       "Name: G7 Population in millions, dtype: float64"
      ]
     },
     "execution_count": 81,
     "metadata": {},
     "output_type": "execute_result"
    }
   ],
   "source": [
    "g7_pop"
   ]
  },
  {
   "cell_type": "code",
   "execution_count": 82,
   "id": "90b1f4df",
   "metadata": {},
   "outputs": [
    {
     "data": {
      "text/plain": [
       "Canada     13.56\n",
       "France     20.56\n",
       "Germany    18.29\n",
       "Italy      19.87\n",
       "Japan      30.45\n",
       "Name: G7 Population in millions, dtype: float64"
      ]
     },
     "execution_count": 82,
     "metadata": {},
     "output_type": "execute_result"
    }
   ],
   "source": [
    "g7_pop[g7_pop<45]"
   ]
  },
  {
   "cell_type": "code",
   "execution_count": 83,
   "id": "3fe7d877",
   "metadata": {},
   "outputs": [],
   "source": [
    "g7_pop[g7_pop<57] = 99.99"
   ]
  },
  {
   "cell_type": "code",
   "execution_count": 84,
   "id": "dffd8adf",
   "metadata": {},
   "outputs": [
    {
     "data": {
      "text/plain": [
       "Canada            99.99\n",
       "France            99.99\n",
       "Germany           99.99\n",
       "Italy             99.99\n",
       "Japan             99.99\n",
       "United Kingdom    99.99\n",
       "United States     99.99\n",
       "Name: G7 Population in millions, dtype: float64"
      ]
     },
     "execution_count": 84,
     "metadata": {},
     "output_type": "execute_result"
    }
   ],
   "source": [
    "g7_pop"
   ]
  },
  {
   "cell_type": "code",
   "execution_count": 85,
   "id": "039adf86",
   "metadata": {},
   "outputs": [
    {
     "data": {
      "text/plain": [
       "Canada            99.99\n",
       "France            99.99\n",
       "Germany           99.99\n",
       "Italy             99.99\n",
       "Japan             99.99\n",
       "United Kingdom    99.99\n",
       "United States     99.99\n",
       "Name: G7 Population in millions, dtype: float64"
      ]
     },
     "execution_count": 85,
     "metadata": {},
     "output_type": "execute_result"
    }
   ],
   "source": [
    "g7_pop"
   ]
  },
  {
   "cell_type": "code",
   "execution_count": 86,
   "id": "5c22acc4",
   "metadata": {},
   "outputs": [],
   "source": [
    "#pandas series exercises"
   ]
  },
  {
   "cell_type": "code",
   "execution_count": 88,
   "id": "e0396bbb",
   "metadata": {},
   "outputs": [],
   "source": [
    "import numpy as np\n",
    "import pandas as pd"
   ]
  },
  {
   "cell_type": "code",
   "execution_count": 89,
   "id": "15c03313",
   "metadata": {},
   "outputs": [],
   "source": [
    "#create empty pandas series"
   ]
  },
  {
   "cell_type": "code",
   "execution_count": 91,
   "id": "4f84058d",
   "metadata": {},
   "outputs": [
    {
     "data": {
      "text/plain": [
       "Series([], dtype: object)"
      ]
     },
     "execution_count": 91,
     "metadata": {},
     "output_type": "execute_result"
    }
   ],
   "source": [
    "pd.Series()"
   ]
  },
  {
   "cell_type": "code",
   "execution_count": 92,
   "id": "78a0b8ea",
   "metadata": {},
   "outputs": [],
   "source": [
    "#given the X python list convert it to an Y pandas series"
   ]
  },
  {
   "cell_type": "code",
   "execution_count": 93,
   "id": "b3411d82",
   "metadata": {},
   "outputs": [],
   "source": [
    "X = ['A', 'B', 'C']"
   ]
  },
  {
   "cell_type": "code",
   "execution_count": 94,
   "id": "9ed0f686",
   "metadata": {},
   "outputs": [
    {
     "name": "stdout",
     "output_type": "stream",
     "text": [
      "['A', 'B', 'C'] <class 'list'>\n"
     ]
    }
   ],
   "source": [
    "print(X, type(X))"
   ]
  },
  {
   "cell_type": "code",
   "execution_count": 96,
   "id": "ccd85082",
   "metadata": {},
   "outputs": [
    {
     "name": "stdout",
     "output_type": "stream",
     "text": [
      "0    A\n",
      "1    B\n",
      "2    C\n",
      "dtype: object <class 'pandas.core.series.Series'>\n"
     ]
    }
   ],
   "source": [
    "Y=pd.Series(X)\n",
    "print(Y, type(Y)) #different type"
   ]
  },
  {
   "cell_type": "code",
   "execution_count": 97,
   "id": "c11822dc",
   "metadata": {},
   "outputs": [],
   "source": [
    "#given the X pandas series, name it 'my letters'"
   ]
  },
  {
   "cell_type": "code",
   "execution_count": 99,
   "id": "f7fcc6dd",
   "metadata": {},
   "outputs": [],
   "source": [
    "X = pd.Series(['A', 'B', 'C'])\n",
    "X.name = 'My letters'"
   ]
  },
  {
   "cell_type": "code",
   "execution_count": 100,
   "id": "994ed485",
   "metadata": {},
   "outputs": [
    {
     "name": "stdout",
     "output_type": "stream",
     "text": [
      "0    A\n",
      "1    B\n",
      "2    C\n",
      "Name: My letters, dtype: object\n"
     ]
    }
   ],
   "source": [
    "print(X)"
   ]
  },
  {
   "cell_type": "code",
   "execution_count": 101,
   "id": "6c1cbbe2",
   "metadata": {},
   "outputs": [],
   "source": [
    "#given the X pandas series, show its values"
   ]
  },
  {
   "cell_type": "code",
   "execution_count": 102,
   "id": "41874f5a",
   "metadata": {},
   "outputs": [
    {
     "data": {
      "text/plain": [
       "array(['A', 'B', 'C'], dtype=object)"
      ]
     },
     "execution_count": 102,
     "metadata": {},
     "output_type": "execute_result"
    }
   ],
   "source": [
    "X = pd.Series(['A', 'B', 'C'])\n",
    "X.values"
   ]
  },
  {
   "cell_type": "code",
   "execution_count": 103,
   "id": "9147613d",
   "metadata": {},
   "outputs": [],
   "source": [
    "#series indexation\n",
    "#assign index names to the given X pandas series"
   ]
  },
  {
   "cell_type": "code",
   "execution_count": 106,
   "id": "722cef09",
   "metadata": {},
   "outputs": [
    {
     "name": "stdout",
     "output_type": "stream",
     "text": [
      "first     A\n",
      "second    B\n",
      "third     C\n",
      "dtype: object\n"
     ]
    }
   ],
   "source": [
    "X = pd.Series(['A', 'B', 'C'])\n",
    "index_names = ['first', 'second', 'third']\n",
    "X.index = index_names\n",
    "print(X)"
   ]
  },
  {
   "cell_type": "code",
   "execution_count": 107,
   "id": "13a13373",
   "metadata": {},
   "outputs": [],
   "source": [
    "#given the X pandas series, show its first element"
   ]
  },
  {
   "cell_type": "code",
   "execution_count": 109,
   "id": "4e229cda",
   "metadata": {},
   "outputs": [
    {
     "data": {
      "text/plain": [
       "'A'"
      ]
     },
     "execution_count": 109,
     "metadata": {},
     "output_type": "execute_result"
    }
   ],
   "source": [
    "X = pd.Series(['A', 'B', 'C'], index = ['first', 'second', 'third'])\n",
    "X.iloc[0]"
   ]
  },
  {
   "cell_type": "code",
   "execution_count": 110,
   "id": "40ecc06f",
   "metadata": {},
   "outputs": [],
   "source": [
    "#given the X pandas series, show its last element"
   ]
  },
  {
   "cell_type": "code",
   "execution_count": 112,
   "id": "78fceef9",
   "metadata": {},
   "outputs": [
    {
     "data": {
      "text/plain": [
       "'C'"
      ]
     },
     "execution_count": 112,
     "metadata": {},
     "output_type": "execute_result"
    }
   ],
   "source": [
    "X = pd.Series(['A', 'B', 'C'], index = ['first', 'second', 'third'])\n",
    "X.iloc[2]"
   ]
  },
  {
   "cell_type": "code",
   "execution_count": 113,
   "id": "14e34184",
   "metadata": {},
   "outputs": [],
   "source": [
    "#Given the X pandas Series, show all middle elements"
   ]
  },
  {
   "cell_type": "code",
   "execution_count": 114,
   "id": "562901f0",
   "metadata": {},
   "outputs": [
    {
     "data": {
      "text/plain": [
       "second    B\n",
       "dtype: object"
      ]
     },
     "execution_count": 114,
     "metadata": {},
     "output_type": "execute_result"
    }
   ],
   "source": [
    "X = pd.Series(['A', 'B', 'C'], index = ['first', 'second', 'third'])\n",
    "X[1:-1]"
   ]
  },
  {
   "cell_type": "code",
   "execution_count": 115,
   "id": "a6f938cb",
   "metadata": {},
   "outputs": [],
   "source": [
    "#Given the X pandas Series, show the elements in reverse position"
   ]
  },
  {
   "cell_type": "code",
   "execution_count": 116,
   "id": "395b3c5e",
   "metadata": {},
   "outputs": [
    {
     "data": {
      "text/plain": [
       "third     C\n",
       "second    B\n",
       "first     A\n",
       "dtype: object"
      ]
     },
     "execution_count": 116,
     "metadata": {},
     "output_type": "execute_result"
    }
   ],
   "source": [
    "X = pd.Series(['A', 'B', 'C'], index = ['first', 'second', 'third'])\n",
    "X[::-1]"
   ]
  },
  {
   "cell_type": "code",
   "execution_count": 117,
   "id": "b3565541",
   "metadata": {},
   "outputs": [],
   "source": [
    "#Given the X pandas Series, show the first and last elements"
   ]
  },
  {
   "cell_type": "code",
   "execution_count": 118,
   "id": "ca85c34d",
   "metadata": {},
   "outputs": [
    {
     "data": {
      "text/plain": [
       "first     A\n",
       "second    B\n",
       "dtype: object"
      ]
     },
     "execution_count": 118,
     "metadata": {},
     "output_type": "execute_result"
    }
   ],
   "source": [
    "X = pd.Series(['A', 'B', 'C'], index = ['first', 'second', 'third'])\n",
    "X[0:-1]"
   ]
  },
  {
   "cell_type": "code",
   "execution_count": 119,
   "id": "e435896c",
   "metadata": {},
   "outputs": [],
   "source": [
    "#series manipulation\n",
    "#reverse the given pandas series"
   ]
  },
  {
   "cell_type": "code",
   "execution_count": 123,
   "id": "f880a65c",
   "metadata": {},
   "outputs": [
    {
     "data": {
      "text/plain": [
       "fifth     5\n",
       "forth     4\n",
       "third     3\n",
       "second    2\n",
       "first     1\n",
       "dtype: int64"
      ]
     },
     "execution_count": 123,
     "metadata": {},
     "output_type": "execute_result"
    }
   ],
   "source": [
    "X = pd.Series([1,2,3,4,5],\n",
    "              index=['first','second','third','forth','fifth'])\n",
    "\n",
    "X[::-1]"
   ]
  },
  {
   "cell_type": "code",
   "execution_count": 124,
   "id": "eda6a78c",
   "metadata": {},
   "outputs": [],
   "source": [
    "#Order (sort) the given pandas Series"
   ]
  },
  {
   "cell_type": "code",
   "execution_count": 125,
   "id": "d3b5be5c",
   "metadata": {},
   "outputs": [
    {
     "data": {
      "text/plain": [
       "first     1\n",
       "second    2\n",
       "third     3\n",
       "forth     4\n",
       "fifth     5\n",
       "dtype: int64"
      ]
     },
     "execution_count": 125,
     "metadata": {},
     "output_type": "execute_result"
    }
   ],
   "source": [
    "X = pd.Series([1,2,3,4,5],\n",
    "              index=['first','second','third','forth','fifth'])\n",
    "X = X.sort_values()\n",
    "X"
   ]
  },
  {
   "cell_type": "code",
   "execution_count": 126,
   "id": "3fb7ca45",
   "metadata": {},
   "outputs": [],
   "source": [
    "#Given the X pandas Series, set the fifth element equal to 10"
   ]
  },
  {
   "cell_type": "code",
   "execution_count": 127,
   "id": "3ee454c4",
   "metadata": {},
   "outputs": [
    {
     "data": {
      "text/plain": [
       "first      1\n",
       "second     2\n",
       "third      3\n",
       "forth      4\n",
       "fifth     10\n",
       "dtype: int64"
      ]
     },
     "execution_count": 127,
     "metadata": {},
     "output_type": "execute_result"
    }
   ],
   "source": [
    "X = pd.Series([1,2,3,4,5],\n",
    "              index=['first','second','third','forth','fifth'])\n",
    "X[4] = 10\n",
    "X"
   ]
  },
  {
   "cell_type": "code",
   "execution_count": 128,
   "id": "edffe48f",
   "metadata": {},
   "outputs": [],
   "source": [
    "#Given the X pandas Series, change all the middle elements to 0"
   ]
  },
  {
   "cell_type": "code",
   "execution_count": 129,
   "id": "9df30429",
   "metadata": {},
   "outputs": [
    {
     "data": {
      "text/plain": [
       "first     1\n",
       "second    0\n",
       "third     0\n",
       "forth     0\n",
       "fifth     5\n",
       "dtype: int64"
      ]
     },
     "execution_count": 129,
     "metadata": {},
     "output_type": "execute_result"
    }
   ],
   "source": [
    "X = pd.Series([1,2,3,4,5],\n",
    "              index=['first','second','third','forth','fifth'])\n",
    "X[1:-1] = 0\n",
    "X"
   ]
  },
  {
   "cell_type": "code",
   "execution_count": 130,
   "id": "f2520e3f",
   "metadata": {},
   "outputs": [],
   "source": [
    "#Given the X pandas Series, add 5 to every element"
   ]
  },
  {
   "cell_type": "code",
   "execution_count": 132,
   "id": "6c59560b",
   "metadata": {},
   "outputs": [
    {
     "data": {
      "text/plain": [
       "first      6\n",
       "second     7\n",
       "third      8\n",
       "forth      9\n",
       "fifth     10\n",
       "dtype: int64"
      ]
     },
     "execution_count": 132,
     "metadata": {},
     "output_type": "execute_result"
    }
   ],
   "source": [
    "X = pd.Series([1,2,3,4,5],\n",
    "              index=['first','second','third','forth','fifth'])\n",
    "X+5"
   ]
  },
  {
   "cell_type": "code",
   "execution_count": 133,
   "id": "ae7abbab",
   "metadata": {},
   "outputs": [],
   "source": [
    "#series boolean arrays (also called masks)\n",
    "#Given the X pandas Series, make a mask showing negative elements"
   ]
  },
  {
   "cell_type": "code",
   "execution_count": 135,
   "id": "be97aed3",
   "metadata": {},
   "outputs": [
    {
     "data": {
      "text/plain": [
       "0     True\n",
       "1    False\n",
       "2     True\n",
       "3     True\n",
       "4    False\n",
       "5    False\n",
       "6    False\n",
       "7     True\n",
       "8    False\n",
       "dtype: bool"
      ]
     },
     "execution_count": 135,
     "metadata": {},
     "output_type": "execute_result"
    }
   ],
   "source": [
    "X = pd.Series([-1,2,0,-4,5,6,7,-9,10])\n",
    "mask = X<=0\n",
    "mask"
   ]
  },
  {
   "cell_type": "code",
   "execution_count": 136,
   "id": "d82e02fa",
   "metadata": {},
   "outputs": [],
   "source": [
    "#Given the X pandas Series, get the negative elements"
   ]
  },
  {
   "cell_type": "code",
   "execution_count": 137,
   "id": "4735e575",
   "metadata": {},
   "outputs": [
    {
     "data": {
      "text/plain": [
       "0   -1\n",
       "2    0\n",
       "3   -4\n",
       "7   -9\n",
       "dtype: int64"
      ]
     },
     "execution_count": 137,
     "metadata": {},
     "output_type": "execute_result"
    }
   ],
   "source": [
    "X = pd.Series([-1,2,0,-4,5,6,7,-9,10])\n",
    "mask = X<=0\n",
    "X[mask]"
   ]
  },
  {
   "cell_type": "code",
   "execution_count": 138,
   "id": "2ab3c137",
   "metadata": {},
   "outputs": [],
   "source": [
    "#Given the X pandas Series, get numbers higher than 5"
   ]
  },
  {
   "cell_type": "code",
   "execution_count": 139,
   "id": "4f41f517",
   "metadata": {},
   "outputs": [
    {
     "data": {
      "text/plain": [
       "5     6\n",
       "6     7\n",
       "8    10\n",
       "dtype: int64"
      ]
     },
     "execution_count": 139,
     "metadata": {},
     "output_type": "execute_result"
    }
   ],
   "source": [
    "X = pd.Series([-1,2,0,-4,5,6,7,-9,10])\n",
    "mask = X>5\n",
    "X[mask]"
   ]
  },
  {
   "cell_type": "code",
   "execution_count": 140,
   "id": "12a2f481",
   "metadata": {},
   "outputs": [],
   "source": [
    "# Given the X pandas Series, get numbers higher than the elements mean"
   ]
  },
  {
   "cell_type": "code",
   "execution_count": 142,
   "id": "22a1a7ef",
   "metadata": {},
   "outputs": [
    {
     "data": {
      "text/plain": [
       "1     2\n",
       "4     5\n",
       "5     6\n",
       "6     7\n",
       "8    10\n",
       "dtype: int64"
      ]
     },
     "execution_count": 142,
     "metadata": {},
     "output_type": "execute_result"
    }
   ],
   "source": [
    "X = pd.Series([-1,2,0,-4,5,6,7,-9,10])\n",
    "mask = X>X.mean()\n",
    "X[mask]"
   ]
  },
  {
   "cell_type": "code",
   "execution_count": 143,
   "id": "28db00d9",
   "metadata": {},
   "outputs": [],
   "source": [
    "# Given the X pandas Series, get numbers equal to 2 or 10"
   ]
  },
  {
   "cell_type": "code",
   "execution_count": 144,
   "id": "ca15b904",
   "metadata": {},
   "outputs": [
    {
     "data": {
      "text/plain": [
       "1     2\n",
       "8    10\n",
       "dtype: int64"
      ]
     },
     "execution_count": 144,
     "metadata": {},
     "output_type": "execute_result"
    }
   ],
   "source": [
    "X = pd.Series([-1,2,0,-4,5,6,7,-9,10])\n",
    "mask = (X ==2)| (X == 10)\n",
    "X[mask]"
   ]
  },
  {
   "cell_type": "code",
   "execution_count": 145,
   "id": "88b4e7f1",
   "metadata": {},
   "outputs": [],
   "source": [
    "#logic functions\n",
    "# Given the X pandas Series, return True if none of its elements is zero"
   ]
  },
  {
   "cell_type": "code",
   "execution_count": 146,
   "id": "b28678fc",
   "metadata": {},
   "outputs": [
    {
     "data": {
      "text/plain": [
       "False"
      ]
     },
     "execution_count": 146,
     "metadata": {},
     "output_type": "execute_result"
    }
   ],
   "source": [
    "X = pd.Series([-1,2,0,-4,5,6,7,-9,10])\n",
    "X.all()"
   ]
  },
  {
   "cell_type": "code",
   "execution_count": 147,
   "id": "efaf1d42",
   "metadata": {},
   "outputs": [],
   "source": [
    "#Given the X pandas Series, return True if any of its elements is zero"
   ]
  },
  {
   "cell_type": "code",
   "execution_count": 148,
   "id": "6db6b76b",
   "metadata": {},
   "outputs": [
    {
     "data": {
      "text/plain": [
       "True"
      ]
     },
     "execution_count": 148,
     "metadata": {},
     "output_type": "execute_result"
    }
   ],
   "source": [
    "X = pd.Series([-1,2,0,-4,5,6,7,-9,10])\n",
    "X.any()"
   ]
  },
  {
   "cell_type": "code",
   "execution_count": 149,
   "id": "8395fe73",
   "metadata": {},
   "outputs": [],
   "source": [
    "#summary statistics\n",
    "#Given the X pandas Series, show the sum of its elements"
   ]
  },
  {
   "cell_type": "code",
   "execution_count": 150,
   "id": "ce4fab0d",
   "metadata": {},
   "outputs": [
    {
     "data": {
      "text/plain": [
       "43"
      ]
     },
     "execution_count": 150,
     "metadata": {},
     "output_type": "execute_result"
    }
   ],
   "source": [
    "X = pd.Series([3,5,6,7,2,3,4,9,4])\n",
    "X.sum()"
   ]
  },
  {
   "cell_type": "code",
   "execution_count": 151,
   "id": "086dbc63",
   "metadata": {},
   "outputs": [],
   "source": [
    "#Given the X pandas Series, show the mean value of its elements"
   ]
  },
  {
   "cell_type": "code",
   "execution_count": 152,
   "id": "586ddc45",
   "metadata": {},
   "outputs": [
    {
     "data": {
      "text/plain": [
       "4.777777777777778"
      ]
     },
     "execution_count": 152,
     "metadata": {},
     "output_type": "execute_result"
    }
   ],
   "source": [
    "X = pd.Series([3,5,6,7,2,3,4,9,4])\n",
    "X.mean()"
   ]
  },
  {
   "cell_type": "code",
   "execution_count": 153,
   "id": "3611b06c",
   "metadata": {},
   "outputs": [],
   "source": [
    "# Given the X pandas Series, show the max value of its elements"
   ]
  },
  {
   "cell_type": "code",
   "execution_count": 154,
   "id": "ca5c3ef4",
   "metadata": {},
   "outputs": [
    {
     "data": {
      "text/plain": [
       "9"
      ]
     },
     "execution_count": 154,
     "metadata": {},
     "output_type": "execute_result"
    }
   ],
   "source": [
    "X = pd.Series([3,5,6,7,2,3,4,9,4])\n",
    "X.max()"
   ]
  },
  {
   "cell_type": "code",
   "execution_count": 155,
   "id": "13f73140",
   "metadata": {},
   "outputs": [],
   "source": [
    "#thank you"
   ]
  },
  {
   "cell_type": "code",
   "execution_count": null,
   "id": "8fa3c0d5",
   "metadata": {},
   "outputs": [],
   "source": [
    "#the end"
   ]
  }
 ],
 "metadata": {
  "kernelspec": {
   "display_name": "Python 3 (ipykernel)",
   "language": "python",
   "name": "python3"
  },
  "language_info": {
   "codemirror_mode": {
    "name": "ipython",
    "version": 3
   },
   "file_extension": ".py",
   "mimetype": "text/x-python",
   "name": "python",
   "nbconvert_exporter": "python",
   "pygments_lexer": "ipython3",
   "version": "3.11.5"
  }
 },
 "nbformat": 4,
 "nbformat_minor": 5
}
